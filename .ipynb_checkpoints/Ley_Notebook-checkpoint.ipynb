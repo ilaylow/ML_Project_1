{
 "cells": [
  {
   "cell_type": "markdown",
   "metadata": {},
   "source": [
    "###### ### The University of Melbourne, School of Computing and Information Systems\n",
    "# COMP30027 Machine Learning, 2021 Semester 1\n",
    "\n",
    "## Assignment 1: Pose classification with naive Bayes\n"
   ]
  },
  {
   "cell_type": "markdown",
   "metadata": {},
   "source": [
    "**Student ID(s):** \n",
    "Chuen Ley Low: 1078133\n",
    "Hoan Tran: \n"
   ]
  },
  {
   "cell_type": "markdown",
   "metadata": {},
   "source": [
    "This iPython notebook is a template which you will use for your Assignment 1 submission.\n",
    "\n",
    "Marking will be applied on the four functions that are defined in this notebook, and to your responses to the questions at the end of this notebook (Submitted in a separate PDF file).\n",
    "\n",
    "**NOTE: YOU SHOULD ADD YOUR RESULTS, DIAGRAMS AND IMAGES FROM YOUR OBSERVATIONS IN THIS FILE TO YOUR REPORT (the PDF file).**\n",
    "\n",
    "You may change the prototypes of these functions, and you may write other functions, according to your requirements. We would appreciate it if the required functions were prominent/easy to find.\n",
    "\n",
    "**Adding proper comments to your code is MANDATORY. **"
   ]
  },
  {
   "cell_type": "code",
   "execution_count": 4,
   "metadata": {},
   "outputs": [],
   "source": [
    "import pandas as pd\n",
    "import numpy as np\n",
    "import math"
   ]
  },
  {
   "cell_type": "code",
   "execution_count": 11,
   "metadata": {},
   "outputs": [],
   "source": [
    "# This function should prepare the data by reading it from a file and converting it into a useful format for training and testing\n",
    "\n",
    "def preprocess():\n",
    "    train_X = []\n",
    "    train_Y = []\n",
    "    train_file_path = \"data/train.csv\"\n",
    "    test_file_path = \"data/test.csv\"\n",
    "    \n",
    "    train_df = pd.read_csv(train_file_path)\n",
    "    test_df = pd.read_csv(test_file_path)\n",
    "    \n",
    "    train_X.append(list(train_df.columns[1:]))\n",
    "    train_Y.append(train_df.columns[0])\n",
    "    \n",
    "    for row in train_df.iterrows():\n",
    "        temp = []\n",
    "        for e in row[1][1:]:\n",
    "            if (math.floor(e) == 9999):\n",
    "                e = math.floor(e)\n",
    "            temp.append(e)\n",
    "            \n",
    "            \n",
    "        train_X.append(temp)\n",
    "        train_Y.append(row[1][0])\n",
    "    \n",
    "    test_X = []\n",
    "    test_Y = []\n",
    "    \n",
    "    test_X.append(list(test_df.columns[1:]))\n",
    "    test_Y.append(test_df.columns[0])\n",
    "    \n",
    "    for row in test_df.iterrows():\n",
    "        temp = []\n",
    "        for e in row[1][1:]:\n",
    "            if (math.floor(e) == 9999):\n",
    "                e = math.floor(e)\n",
    "            temp.append(e)\n",
    "            \n",
    "            \n",
    "        test_X.append(temp)\n",
    "        test_Y.append(row[1][0])\n",
    "    \n",
    "    return train_X, train_Y, test_X, test_Y\n",
    "\n",
    "train_X, train_Y, test_X, test_Y = preprocess()"
   ]
  },
  {
   "cell_type": "code",
   "execution_count": 25,
   "metadata": {},
   "outputs": [
    {
     "name": "stdout",
     "output_type": "stream",
     "text": [
      "{'bridge': [(1.5589549382716055, 123.69780939475929), (11.37745859259259, 81.70843276415039), (127.06980493827157, 1099.990033871127), (148.97810617283952, 1098.4030854448533), (0.2028864197530865, 37.76013465796565), (-14.531665432098766, 46.174345856199395), (-17.23724827160494, 165.87906036936684), (93.37358148148154, 1117.147529836946), (122.51714074074076, 1106.0091918428939), (133.58821234567895, 1108.3300650649153), (133.7879617283951, 1114.6020590673413), (4.184724567901233, 26.254754617129965), (5.33325456790123, 48.453747418150215), (115.11559397530858, 1101.7399408519004), (112.16375308641979, 1102.066728203634), (-12.128519753086417, 29.252936282368683), (-18.12078938271605, 29.463074813420487), (59.543545679012354, 204.7176010365893), (170.5321190123457, 1111.7141750983906), (100.90789753086422, 1106.0639693700407), (144.6022117283951, 1097.415826999703), (58.5725135802469, 1175.1751601983196)], 'childs': [(-2.2197652173913043, 36.974379380126976), (-2.4292871014492756, 39.94134563127786), (4.269475362318841, 35.8337166999511), (13.641300000000001, 61.30488084115775), (-1.9522004347826092, 31.752846099622374), (-4.262872463768117, 56.49352188110565), (-6.159162318840578, 61.29653619615789), (-2.2384927536231882, 38.27225073991571), (-13.061753623188405, 45.885451650418226), (3.4856826086956527, 27.237971734072286), (10.927079710144929, 51.58087614929491), (-0.9566833333333331, 9.319171366225849), (19.320622318840584, 14.031274700218658), (-5.284327536231885, 15.805855601574486), (-10.351960869565218, 28.306467627849738), (-4.3193376811594195, 8.488574100739417), (-8.383320289855073, 13.059050021707629), (24.702062318840575, 20.560409550776438), (-3.033607246376812, 14.96322557290614), (-4.082275362318841, 8.19632406595354), (-3.532317826086956, 9.83586717954607), (-4.078855072463768, 6.855346089054205)], 'downwarddog': [(-2.531236504854369, 22.054305111830026), (-5.752278640776702, 51.63118814119794), (-7.724633495145631, 45.91635725541801), (-3.88045436893204, 61.80410747521077), (-8.16080918446602, 38.161688234446046), (-13.557700970873793, 60.07113211446985), (4.4565903883495155, 41.91520525751346), (6.207827184466019, 46.58917453157811), (6.434900000000002, 68.02829274648066), (10.12089504854369, 60.81869804303103), (14.386890291262135, 84.08031962594421), (-0.8798796116504854, 14.364584777605403), (26.729087038834948, 29.176280298977318), (-4.81716213592233, 21.294812795721956), (-20.549479611650483, 41.05224133005774), (-7.193482135922331, 16.467367845922713), (-21.34531553398058, 32.510721729923986), (61.89210776699029, 39.31072453852741), (10.083548291262142, 31.146616704804508), (-25.92433980582524, 39.05472993223752), (20.72478980582524, 50.75442880181612), (-38.71987281553397, 52.43989280625965)], 'mountain': [(-0.007175893750000032, 2.933744782802205), (-0.10833398125, 2.2507187137379154), (-43.01669937500001, 7.9646713701625576), (-50.895126875000024, 18.909692436257128), (43.16918875000002, 7.945730893111626), (51.10801693750001, 19.01326677344568), (-0.150617486, 1.326579026869549), (-16.732308749999994, 3.731200053759305), (-13.959189312499998, 7.1520200013736615), (16.62368812500001, 3.6980157032754044), (13.96856124999999, 6.959487596502592), (156.44193749999994, 19.521296924893175), (109.92795625000004, 16.05253231561413), (64.60852812499999, 15.337726948557972), (29.11103124999999, 42.57201308313096), (64.74325625000002, 15.137675249917367), (28.939961250000003, 42.00144944399537), (9.9549948125, 16.05262705334698), (-72.35827562499999, 16.05978345994174), (-159.43400999999997, 17.816886894857646), (-72.36981125000003, 15.975752201586571), (-159.56557812499997, 17.886326665733634)], 'plank': [(21.89204035087718, 103.25086900965643), (13.378628070175441, 67.3927225561673), (7.573638596491225, 56.56438545502462), (12.572099473684213, 66.42841913790407), (5.6530947368421085, 59.7929140496343), (3.90052105263158, 67.22730090511348), (-9.03136949122807, 40.38591370780181), (-17.14254035087719, 69.14768395067908), (-24.857117543859648, 123.4960918709739), (-5.922538596491229, 81.86374478422904), (-8.016447368421048, 137.01696881985916), (41.8224852631579, 25.750137805335154), (43.926999999999985, 18.18620524273487), (-2.3882870175438597, 46.20778221723105), (-22.159589473684203, 67.15121321719234), (-4.084779649122807, 37.62392516558153), (-28.36589824561403, 60.828914627318134), (24.37141578947369, 16.085297128863914), (-3.421539122807017, 18.415821167181356), (-28.37717894736842, 31.531923962572378), (0.08596807017543892, 21.890835200308178), (-21.40959473684211, 38.64633262810284)], 'seatedforwardbend': [(6.944347906976745, 73.55138016947951), (2.3117730232558147, 40.09904983129065), (-32.73603902325582, 90.57005231328098), (-20.84990465116279, 124.30173638826135), (25.27516674418605, 70.04808471301014), (17.556797674418604, 102.93819334228652), (-11.580459534883719, 83.28635441721815), (-20.310837209302324, 78.409153123041), (-31.405667441860462, 155.28285145767504), (24.432772093023257, 87.78591126470876), (40.36205581395349, 182.54727814007381), (18.009093023255815, 54.84741309313062), (31.569395348837208, 28.00590826794842), (-9.684227906976744, 34.22601271127923), (-14.737391627906975, 45.75056170311842), (-11.069144883720933, 19.886042740201027), (-15.030072093023255, 40.385233197853964), (10.869143488372094, 46.83456890016608), (-2.559476744186047, 20.539268944778694), (-3.701258139534884, 12.677914249317631), (-2.2059767441860467, 20.69181569294706), (-1.4600976744186047, 17.207209031597507)], 'tree': [(0.5455967164179104, 8.929306030362236), (0.7453619402985072, 9.439914388845803), (-35.62364776119402, 22.345378600442388), (-11.51612880597015, 22.68639150007562), (36.79930746268657, 24.903751717309717), (14.073331343283579, 20.641161216242367), (-1.0083169701492534, 5.184199176919704), (-39.21671641791044, 35.66442624468252), (-1.7712816820895523, 10.759985468258105), (35.54796119402985, 32.533908153838865), (1.4245319402985073, 5.185056279936926), (97.07094029850748, 25.874514530797775), (61.93696865671642, 30.889962833808852), (68.50495074626862, 35.285746069317824), (93.12797462686568, 45.697992743873115), (70.29030746268661, 33.09167208473636), (98.6644731343284, 45.91383199013155), (-32.158461194029854, 22.307067245209947), (-89.80131940298507, 31.12748081041799), (-128.78440746268657, 62.548311116611664), (-96.11682089552235, 29.228263608615222), (-142.73461641791042, 60.63303712648221)], 'trianglepose': [(-16.16435728813559, 71.5468029320761), (-9.24794576271186, 34.58097354515366), (-15.654844067796612, 38.909588307615245), (-19.816515254237284, 52.95862514918072), (0.0667745762711872, 38.0883053149771), (2.446071186440678, 48.5477193050132), (9.079767627118644, 55.724295262141595), (-40.46877627118645, 65.69375088091051), (-74.71713728813559, 87.90758076278489), (63.81505220338986, 61.94076696006343), (100.66190169491526, 80.83375155698322), (68.3730254237288, 25.942979635631247), (47.080123728813554, 20.56415044616863), (30.946315254237298, 87.2020990804676), (20.0019406779661, 138.48025736248945), (62.331310169491545, 90.41822984212793), (75.67544067796611, 136.82011501660185), (13.629423728813563, 23.86782554995686), (-47.092072881355925, 14.262459295556999), (-114.79780847457627, 21.978741717079085), (-45.3772406779661, 18.397989460438577), (-110.77045762711863, 22.691174120698793)], 'warrior1': [(-0.4272920370370372, 20.047530335983495), (-0.5125325925925925, 11.341649840400585), (-10.960727777777775, 31.043147611565423), (-15.505297592592592, 49.672349542751405), (12.927648529629632, 28.188997900007337), (17.133773222222217, 42.17038047014491), (-2.082704814814816, 15.632171815924671), (-30.24031666666667, 67.70674084081071), (-51.581672222222224, 103.36668545727245), (30.842801851851846, 69.58468660602784), (50.40631666666667, 103.96378167794194), (89.1903314814815, 25.409999757525974), (54.89677222222222, 22.99572072951424), (74.00061851851852, 41.0452222706546), (88.32304629629628, 65.71052640332489), (61.71925555555554, 38.40928261109542), (77.59261111111111, 54.11121033048008), (-36.868072222222224, 21.186578238567275), (-69.29294074074076, 26.938863945247817), (-136.1171574074074, 24.192368836670475), (-70.81520185185187, 24.315813259715885), (-132.62927037037036, 24.50094477358471)], 'warrior2': [(-2.5179005555555554, 15.29578564695765), (0.00022448148148143839, 6.220732723512857), (-76.12632037037035, 39.98188682402357), (-119.80786481481479, 63.206892054749844), (76.75471666666665, 40.041815425047986), (118.22221111111111, 61.365179877177845), (-1.152517425925926, 5.265625059760647), (-76.04170555555557, 42.55189633460847), (-108.96160370370373, 64.50168698725183), (74.5269648148148, 41.90139463940426), (115.10379814814816, 65.40803376237794), (107.84197777777776, 9.192478701889462), (66.80626666666666, 7.159557450269094), (69.21706851851852, 6.167263176729688), (71.64403703703704, 12.08591802092949), (66.94243518518518, 9.49364777331464), (65.75249074074074, 18.010188682558923), (-32.94645370370371, 7.148799748979182), (-66.14399259259257, 17.211618183752464), (-136.54187407407414, 12.04205044120731), (-73.4296925925926, 17.539854113543523), (-139.14226111111105, 12.704845942712923)]}\n",
      "22\n",
      "22\n",
      "22\n",
      "22\n",
      "22\n",
      "22\n",
      "22\n",
      "22\n",
      "22\n",
      "22\n"
     ]
    }
   ],
   "source": [
    "# This function should calculat prior probabilities and likelihoods from the training data and using\n",
    "# them to build a naive Bayes model\n",
    "\n",
    "def train():\n",
    "    groups = {}\n",
    "    for data, label in zip(train_X, train_Y):\n",
    "        if label in groups:\n",
    "            groups[label].append(data)\n",
    "        else:\n",
    "            groups[label] = [data]\n",
    "\n",
    "    train_dict = {}\n",
    "    \n",
    "    for key in groups.keys():\n",
    "        train_dict[key] = []\n",
    "    \n",
    "    for key in groups.keys():\n",
    "        data = groups[key]\n",
    "        num_attributes = len(data[0])\n",
    "        num_instance = len(data)\n",
    "        \n",
    "        for i in range(num_attributes):\n",
    "            total_sum = 0 \n",
    "            for j in range(num_instance):\n",
    "                if data[j][i] != 9999:\n",
    "                    total_sum += float(data[j][i]) \n",
    "                    \n",
    "                \n",
    "            \n",
    "            mean = total_sum / num_instance\n",
    "            \n",
    "            diff_sum = 0\n",
    "            \n",
    "            for j in range(num_instance):\n",
    "                if data[j][i] != 9999:\n",
    "                    diff_sum += ((float(data[j][i]) - mean) ** 2)\n",
    "                \n",
    "            std_dev = math.sqrt(diff_sum / num_instance)\n",
    "            \n",
    "            train_dict[key].append((mean, std_dev))\n",
    "            \n",
    "            \n",
    "    print(train_dict)\n",
    "        \n",
    "    for key in train_dict.keys():\n",
    "        print(len(train_dict[key]))\n",
    "        \n",
    "        \n",
    "    \n",
    "train()\n",
    "\n",
    "        "
   ]
  },
  {
   "cell_type": "code",
   "execution_count": 7,
   "metadata": {
    "tags": []
   },
   "outputs": [],
   "source": [
    "# This function should predict classes for new items in a test dataset (for the purposes of this assignment, you\n",
    "# can re-use the training data as a test set)\n",
    "\n",
    "def predict():\n",
    "    return"
   ]
  },
  {
   "cell_type": "code",
   "execution_count": null,
   "metadata": {},
   "outputs": [],
   "source": [
    "# This function should evaliate the prediction performance by comparing your model’s class outputs to ground\n",
    "# truth labels\n",
    "\n",
    "def evaluate():\n",
    "    return"
   ]
  },
  {
   "cell_type": "code",
   "execution_count": null,
   "metadata": {},
   "outputs": [],
   "source": []
  },
  {
   "cell_type": "markdown",
   "metadata": {},
   "source": [
    "## Questions \n",
    "\n",
    "\n",
    "If you are in a group of 1, you will respond to **two** questions of your choosing.\n",
    "\n",
    "If you are in a group of 2, you will respond to **four** questions of your choosing.\n",
    "\n",
    "A response to a question should take about 100–250 words, and make reference to the data wherever possible.\n",
    "\n",
    "#### NOTE: you may develope codes or functions to help respond to the question here, but your formal answer should be submitted separately as a PDF."
   ]
  },
  {
   "cell_type": "markdown",
   "metadata": {},
   "source": [
    "### Q1\n",
    "Since this is a multiclass classification problem, there are multiple ways to compute precision, recall, and F-score for this classifier. Implement at least two of the methods from the \"Model Evaluation\" lecture and discuss any differences between them. (The implementation should be your own and should not just call a pre-existing function.)"
   ]
  },
  {
   "cell_type": "code",
   "execution_count": null,
   "metadata": {
    "collapsed": true,
    "jupyter": {
     "outputs_hidden": true
    }
   },
   "outputs": [],
   "source": []
  },
  {
   "cell_type": "markdown",
   "metadata": {},
   "source": [
    "### Q2\n",
    "The Gaussian naıve Bayes classifier assumes that numeric attributes come from a Gaussian distribution. Is this assumption always true for the numeric attributes in this dataset? Identify some cases where the Gaussian assumption is violated and describe any evidence (or lack thereof) that this has some effect on the classifier’s predictions."
   ]
  },
  {
   "cell_type": "code",
   "execution_count": null,
   "metadata": {
    "collapsed": true,
    "jupyter": {
     "outputs_hidden": true
    }
   },
   "outputs": [],
   "source": []
  },
  {
   "cell_type": "markdown",
   "metadata": {},
   "source": [
    "### Q3\n",
    "Implement a kernel density estimate (KDE) naive Bayes classifier and compare its performance to the Gaussian naive Bayes classifier. Recall that KDE has kernel bandwidth as a free parameter -- you can choose an arbitrary value for this, but a value in the range 5-25 is recommended. Discuss any differences you observe between the Gaussian and KDE naive Bayes classifiers. (As with the Gaussian naive Bayes, this KDE naive Bayes implementation should be your own and should not just call a pre-existing function.)"
   ]
  },
  {
   "cell_type": "code",
   "execution_count": null,
   "metadata": {
    "collapsed": true,
    "jupyter": {
     "outputs_hidden": true
    }
   },
   "outputs": [],
   "source": []
  },
  {
   "cell_type": "markdown",
   "metadata": {},
   "source": [
    "### Q4\n",
    "Instead of using an arbitrary kernel bandwidth for the KDE naive Bayes classifier, use random hold-out or cross-validation to choose the kernel bandwidth. Discuss how this changes the model performance compared to using an arbitrary kernel bandwidth."
   ]
  },
  {
   "cell_type": "code",
   "execution_count": null,
   "metadata": {
    "collapsed": true,
    "jupyter": {
     "outputs_hidden": true
    }
   },
   "outputs": [],
   "source": []
  },
  {
   "cell_type": "markdown",
   "metadata": {},
   "source": [
    "### Q5\n",
    "Naive Bayes ignores missing values, but in pose recognition tasks the missing values can be informative. Missing values indicate that some part of the body was obscured and sometimes this is relevant to the pose (e.g., holding one hand behind the back). Are missing values useful for this task? Implement a method that incorporates information about missing values and demonstrate whether it changes the classification results."
   ]
  },
  {
   "cell_type": "code",
   "execution_count": null,
   "metadata": {
    "collapsed": true,
    "jupyter": {
     "outputs_hidden": true
    }
   },
   "outputs": [],
   "source": []
  },
  {
   "cell_type": "markdown",
   "metadata": {},
   "source": [
    "### Q6\n",
    "Engineer your own pose features from the provided keypoints. Instead of using the (x,y) positions of keypoints, you might consider the angles of the limbs or body, or the distances between pairs of keypoints. How does a naive Bayes classifier based on your engineered features compare to the classifier using (x,y) values? Please note that we are interested in explainable features for pose recognition, so simply putting the (x,y) values in a neural network or similar to get an arbitrary embedding will not receive full credit for this question. You should be able to explain the rationale behind your proposed features. Also, don't forget the conditional independence assumption of naive Bayes when proposing new features -- a large set of highly-correlated features may not work well."
   ]
  },
  {
   "cell_type": "code",
   "execution_count": null,
   "metadata": {
    "collapsed": true,
    "jupyter": {
     "outputs_hidden": true
    }
   },
   "outputs": [],
   "source": []
  }
 ],
 "metadata": {
  "kernelspec": {
   "display_name": "Python 3",
   "language": "python",
   "name": "python3"
  },
  "language_info": {
   "codemirror_mode": {
    "name": "ipython",
    "version": 3
   },
   "file_extension": ".py",
   "mimetype": "text/x-python",
   "name": "python",
   "nbconvert_exporter": "python",
   "pygments_lexer": "ipython3",
   "version": "3.7.6"
  }
 },
 "nbformat": 4,
 "nbformat_minor": 4
}
