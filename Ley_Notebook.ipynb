{
 "cells": [
  {
   "cell_type": "markdown",
   "metadata": {},
   "source": [
    "###### ### The University of Melbourne, School of Computing and Information Systems\n",
    "# COMP30027 Machine Learning, 2021 Semester 1\n",
    "\n",
    "## Assignment 1: Pose classification with naive Bayes\n"
   ]
  },
  {
   "cell_type": "markdown",
   "metadata": {},
   "source": [
    "**Student ID(s):** \n",
    "Chuen Ley Low: 1078133\n",
    "Hoan Tran: \n"
   ]
  },
  {
   "cell_type": "markdown",
   "metadata": {},
   "source": [
    "This iPython notebook is a template which you will use for your Assignment 1 submission.\n",
    "\n",
    "Marking will be applied on the four functions that are defined in this notebook, and to your responses to the questions at the end of this notebook (Submitted in a separate PDF file).\n",
    "\n",
    "**NOTE: YOU SHOULD ADD YOUR RESULTS, DIAGRAMS AND IMAGES FROM YOUR OBSERVATIONS IN THIS FILE TO YOUR REPORT (the PDF file).**\n",
    "\n",
    "You may change the prototypes of these functions, and you may write other functions, according to your requirements. We would appreciate it if the required functions were prominent/easy to find.\n",
    "\n",
    "**Adding proper comments to your code is MANDATORY. **"
   ]
  },
  {
   "cell_type": "code",
   "execution_count": 16,
   "metadata": {},
   "outputs": [],
   "source": [
    "import pandas as pd\n",
    "import numpy as np\n",
    "import math\n",
    "from sklearn.metrics import accuracy_score, f1_score\n",
    "import pickle \n",
    "import matplotlib.pyplot as plt\n",
    "\n",
    "%matplotlib inline"
   ]
  },
  {
   "cell_type": "code",
   "execution_count": 29,
   "metadata": {},
   "outputs": [],
   "source": [
    "# This function should prepare the data by reading it from a file and converting it into a useful format for training and testing\n",
    "\n",
    "def preprocess():\n",
    "    train_X = []\n",
    "    train_Y = []\n",
    "    train_file_path = \"data/train.csv\"\n",
    "    test_file_path = \"data/test.csv\"\n",
    "    \n",
    "    train_df = pd.read_csv(train_file_path)\n",
    "    test_df = pd.read_csv(test_file_path)\n",
    "    \n",
    "    train_X.append([float(x) for x in list(train_df.columns[1:])])\n",
    "    train_Y.append(train_df.columns[0])\n",
    "    \n",
    "    for row in train_df.iterrows():\n",
    "        temp = []\n",
    "        for e in row[1][1:]:\n",
    "            temp.append(e)\n",
    "            \n",
    "            \n",
    "        train_X.append(temp)\n",
    "        train_Y.append(row[1][0])\n",
    "    \n",
    "    test_X = []\n",
    "    test_Y = []\n",
    "    \n",
    "    test_X.append([float(x) for x in list(test_df.columns[1:])])\n",
    "    test_Y.append(test_df.columns[0])\n",
    "    \n",
    "    for row in test_df.iterrows():\n",
    "        temp = []\n",
    "        for e in row[1][1:]:\n",
    "            temp.append(e)\n",
    "            \n",
    "            \n",
    "        test_X.append(temp)\n",
    "        test_Y.append(row[1][0])\n",
    "    \n",
    "    return train_X, train_Y, test_X, test_Y\n",
    "\n",
    "train_X, train_Y, test_X, test_Y = preprocess()"
   ]
  },
  {
   "cell_type": "code",
   "execution_count": 36,
   "metadata": {},
   "outputs": [],
   "source": [
    "# Pickle the training and testing lists\n",
    "pickle.dump(train_X, open(\"train_X.pkl\", \"wb\"))\n",
    "pickle.dump(train_Y, open(\"train_Y.pkl\", \"wb\"))\n",
    "pickle.dump(test_X, open(\"test_X.pkl\", \"wb\"))\n",
    "pickle.dump(test_Y, open(\"test_Y.pkl\", \"wb\"))"
   ]
  },
  {
   "cell_type": "code",
   "execution_count": 33,
   "metadata": {},
   "outputs": [],
   "source": [
    "# This function should calculat prior probabilities and likelihoods from the training data and using\n",
    "# them to build a naive Bayes model\n",
    "\n",
    "def train():\n",
    "    label_prob_dict = {}\n",
    "    groups = {}\n",
    "    for data, label in zip(train_X, train_Y):\n",
    "        if label in groups:\n",
    "            groups[label].append(data)\n",
    "        else:\n",
    "            groups[label] = [data]\n",
    "\n",
    "    train_dict = {}\n",
    "    \n",
    "    for key in groups.keys():\n",
    "        train_dict[key] = []\n",
    "    \n",
    "    for key in groups.keys():\n",
    "        data = groups[key]\n",
    "        num_attributes = len(data[0])\n",
    "        num_instance = len(data)\n",
    "        \n",
    "        label_prob_dict[key] = num_instance / len(train_X)\n",
    "        \n",
    "        for i in range(num_attributes):\n",
    "            total_sum = 0 \n",
    "            for j in range(num_instance):\n",
    "                if math.floor(data[j][i]) != 9999.0:\n",
    "                    total_sum += float(data[j][i]) \n",
    "            \n",
    "            mean = total_sum / num_instance\n",
    "            \n",
    "            diff_sum = 0\n",
    "            \n",
    "            for j in range(num_instance):\n",
    "                if math.floor(data[j][i]) != 9999.0:\n",
    "                    diff_sum += ((float(data[j][i]) - mean) ** 2)\n",
    "                \n",
    "            std_dev = math.sqrt(diff_sum / num_instance)\n",
    "            \n",
    "            train_dict[key].append((mean, std_dev))\n",
    "            \n",
    "    \n",
    "    return train_dict, label_prob_dict, groups\n",
    "\n",
    "train_dict, label_prob_dict, group_data = train()        "
   ]
  },
  {
   "cell_type": "code",
   "execution_count": 46,
   "metadata": {},
   "outputs": [
    {
     "data": {
      "text/plain": [
       "0.24197072451914337"
      ]
     },
     "execution_count": 46,
     "metadata": {},
     "output_type": "execute_result"
    }
   ],
   "source": [
    "def GaussianFunction(x, mean, std_dev):\n",
    "    x = float(x)\n",
    "    base = 1 / (std_dev * math.sqrt(2 * math.pi))\n",
    "    exponent = math.exp(-0.5 * ((x - mean)/std_dev) ** 2)\n",
    "    return base * exponent\n",
    "\n",
    "GaussianFunction(2.0, 1.0, 1.0)"
   ]
  },
  {
   "cell_type": "code",
   "execution_count": 39,
   "metadata": {
    "tags": []
   },
   "outputs": [
    {
     "name": "stdout",
     "output_type": "stream",
     "text": [
      "['bridge', 'childs', 'bridge', 'plank', 'downwarddog', 'bridge', 'bridge', 'bridge', 'childs', 'bridge', 'downwarddog', 'bridge', 'downwarddog', 'bridge', 'seatedforwardbend', 'childs', 'childs', 'mountain', 'childs', 'childs', 'seatedforwardbend', 'childs', 'childs', 'childs', 'childs', 'childs', 'childs', 'downwarddog', 'bridge', 'mountain', 'downwarddog', 'downwarddog', 'downwarddog', 'downwarddog', 'bridge', 'downwarddog', 'downwarddog', 'mountain', 'downwarddog', 'downwarddog', 'mountain', 'downwarddog', 'downwarddog', 'downwarddog', 'downwarddog', 'mountain', 'mountain', 'mountain', 'mountain', 'mountain', 'mountain', 'mountain', 'tree', 'tree', 'mountain', 'mountain', 'mountain', 'mountain', 'mountain', 'mountain', 'mountain', 'mountain', 'mountain', 'mountain', 'mountain', 'mountain', 'mountain', 'tree', 'tree', 'mountain', 'mountain', 'mountain', 'mountain', 'mountain', 'mountain', 'bridge', 'plank', 'plank', 'trianglepose', 'plank', 'plank', 'trianglepose', 'bridge', 'plank', 'seatedforwardbend', 'bridge', 'childs', 'trianglepose', 'seatedforwardbend', 'seatedforwardbend', 'seatedforwardbend', 'childs', 'seatedforwardbend', 'tree', 'tree', 'warrior1', 'tree', 'bridge', 'warrior1', 'trianglepose', 'trianglepose', 'trianglepose', 'trianglepose', 'warrior1', 'warrior1', 'warrior1', 'warrior1', 'warrior1', 'warrior2', 'warrior2', 'warrior2', 'warrior2', 'warrior1', 'warrior2', 'warrior2', 'warrior2']\n"
     ]
    }
   ],
   "source": [
    "# This function should predict classes for new items in a test dataset (for the purposes of this assignment, you\n",
    "# can re-use the training data as a test set)\n",
    "\n",
    "def predict():\n",
    "    predictions = []\n",
    "    for i in range(len(test_X)):\n",
    "        instance = test_X[i]\n",
    "        prob_arr = []\n",
    "        # Calculate the Gaussian Probability for each label\n",
    "        for label in train_dict.keys():        \n",
    "            prob = math.log(label_prob_dict[label], 2)\n",
    "            for j in range(len(instance)):\n",
    "                if math.floor(instance[j]) != 9999.0:\n",
    "                    mean, std_dev = train_dict[label][j]\n",
    "                    gaussian_prob = GaussianFunction(instance[j], mean, std_dev)\n",
    "                    \n",
    "                    if gaussian_prob != 0.0:\n",
    "                        prob += math.log(GaussianFunction(instance[j], mean, std_dev), 2)\n",
    "            prob_arr.append(prob)\n",
    "        \n",
    "        max_arg = np.argmax(prob_arr)\n",
    "        predicted_label = list(train_dict.keys())[max_arg]\n",
    "        predictions.append(predicted_label)\n",
    "    \n",
    "    print(predictions)\n",
    "    return predictions\n",
    "\n",
    "predictions = predict()"
   ]
  },
  {
   "cell_type": "code",
   "execution_count": 80,
   "metadata": {},
   "outputs": [
    {
     "name": "stdout",
     "output_type": "stream",
     "text": [
      "Micro Average Recall: 0.7413793103448276\n",
      "Micro Average Precision: 0.7413793103448276\n",
      "Micro Average F1 Score: 0.7413793103448276\n",
      "\n",
      "\n",
      "Macro Average Recall: 0.7415659340659341\n",
      "Macro Average Precision: 0.71375\n",
      "Macro Average F1 Score: 0.7273921394659594\n",
      "\n",
      "\n",
      "Weighted Average Recall: 0.7413793103448276\n",
      "Weighted Average Precision: 0.7570812807881774\n",
      "Weighted Average F1 Score: 0.7491480271781102\n",
      "{'bridge': 0.1206896551724138, 'childs': 0.11206896551724138, 'downwarddog': 0.15517241379310345, 'mountain': 0.25862068965517243, 'plank': 0.07758620689655173, 'seatedforwardbend': 0.07758620689655173, 'tree': 0.05172413793103448, 'trianglepose': 0.034482758620689655, 'warrior1': 0.04310344827586207, 'warrior2': 0.06896551724137931}\n"
     ]
    }
   ],
   "source": [
    "# This function should evaluate the prediction performance by comparing your model’s class outputs to ground\n",
    "# truth labels\n",
    "\n",
    "def evaluate():\n",
    "    \n",
    "    true_positives = {}\n",
    "    true_negatives = {}\n",
    "    false_positives = {}\n",
    "    false_negatives = {}\n",
    "    class_proportions = {}\n",
    "    \n",
    "    for key in train_dict.keys():\n",
    "        true_positives[key] = 0\n",
    "        true_negatives[key] = 0\n",
    "        false_positives[key] = 0\n",
    "        false_negatives[key] = 0\n",
    "        class_proportions[key] = 0\n",
    "    \n",
    "    for i in range(len(test_Y)):\n",
    "        \n",
    "        # When predictions match actual\n",
    "        if predictions[i] == test_Y[i]:\n",
    "            true_positives[predictions[i]] += 1\n",
    "            for key in train_dict.keys():\n",
    "                if key != predictions[i]:\n",
    "                    true_negatives[key] += 1\n",
    "                    \n",
    "        # When prediction does not match\n",
    "        else:\n",
    "            false_positives[predictions[i]] += 1\n",
    "            false_negatives[test_Y[i]] += 1\n",
    "            for key in train_dict.keys():\n",
    "                if key != predictions[i] and key != test_Y[i]:\n",
    "                    true_negatives[key] += 1\n",
    "    \n",
    "    # Micro Averaging \n",
    "    \n",
    "    # Recall And Precision\n",
    "    total_true_positives = 0\n",
    "    total_false_neg = 0\n",
    "    total_false_pos = 0\n",
    "    for key in true_positives:\n",
    "        total_true_positives += true_positives[key]\n",
    "        total_false_neg += false_negatives[key]\n",
    "        total_false_pos += false_positives[key]\n",
    "    \n",
    "    recall = total_true_positives / (total_true_positives + total_false_neg)\n",
    "    precision = total_true_positives / (total_true_positives + total_false_pos)\n",
    "    \n",
    "    print(f\"Micro Average Recall: {recall}\")\n",
    "    print(f\"Micro Average Precision: {precision}\")\n",
    "    \n",
    "    f1_score = 2 * ((precision * recall) / (precision + recall))\n",
    "    print(f\"Micro Average F1 Score: {f1_score}\")\n",
    "    \n",
    "    # Macro Averaging\n",
    "    \n",
    "    # Get the recall and precision for each class\n",
    "    class_recall = {}\n",
    "    class_precision = {}\n",
    "    \n",
    "    recall = 0\n",
    "    precision = 0\n",
    "    for key in true_positives.keys():\n",
    "        class_recall[key] = true_positives[key] / (true_positives[key] + false_negatives[key])\n",
    "        class_precision[key] = true_positives[key] / (true_positives[key] + false_positives[key])\n",
    "        \n",
    "        recall += class_recall[key]\n",
    "        precision += class_precision[key]\n",
    "    \n",
    "    recall /= len(class_recall)\n",
    "    precision /= len(class_precision)\n",
    "    print(\"\\n\")\n",
    "    print(f\"Macro Average Recall: {recall}\")\n",
    "    print(f\"Macro Average Precision: {precision}\")\n",
    "    \n",
    "    f1_score = 2 * ((precision * recall) / (precision + recall))\n",
    "    print(f\"Macro Average F1 Score: {f1_score}\")\n",
    "    \n",
    "    # Weight Averaging\n",
    "    \n",
    "    # Get class proportions\n",
    "    for instance in test_Y:\n",
    "        if instance in class_proportions:\n",
    "            class_proportions[instance] += 1\n",
    "        else:\n",
    "            class_proportions[instance] = 1\n",
    "    \n",
    "    recall = 0\n",
    "    precision = 0\n",
    "    for key in class_proportions:\n",
    "        class_proportions[key] /= len(test_Y)\n",
    "        \n",
    "        recall += (class_proportions[key]) * (class_recall[key])\n",
    "        precision += (class_proportions[key]) * (class_precision[key])\n",
    "    \n",
    "    print(\"\\n\")\n",
    "    print(f\"Weighted Average Recall: {recall}\")\n",
    "    print(f\"Weighted Average Precision: {precision}\")\n",
    "    \n",
    "    f1_score = 2 * ((precision * recall) / (precision + recall))\n",
    "    print(f\"Weighted Average F1 Score: {f1_score}\")   \n",
    "    \n",
    "    print(class_proportions)\n",
    "    \n",
    "evaluate()"
   ]
  },
  {
   "cell_type": "code",
   "execution_count": 27,
   "metadata": {},
   "outputs": [],
   "source": [
    "#Load in pickle for train_X\n",
    "\n",
    "train_X = pickle.load(open(\"train_X.pkl\", \"rb\"))\n",
    "train_Y = pickle.load(open(\"train_Y.pkl\", \"rb\"))"
   ]
  },
  {
   "cell_type": "code",
   "execution_count": 35,
   "metadata": {},
   "outputs": [
    {
     "data": {
      "image/png": "[encoded data removed]",
      "text/plain": [
       "<Figure size 432x288 with 1 Axes>"
      ]
     },
     "metadata": {
      "needs_background": "light"
     },
     "output_type": "display_data"
    }
   ],
   "source": [
    "# Plot the the left wrist points for the classes {mountain, tree and trianglepose}\n",
    "#For Left Wrist coordinates, we extract the the x and y coordinates\n",
    "\n",
    "LEFT_WRIST_X = 6\n",
    "LEFT_WRIST_Y = 17\n",
    "\n",
    "# For Mountain\n",
    "mountain_points = group_data[\"mountain\"]\n",
    "\n",
    "left_wrist_x = []\n",
    "left_wrist_y = []\n",
    "for row in mountain_points:\n",
    "    left_wrist_x.append(row[LEFT_WRIST_X])\n",
    "    left_wrist_y.append(row[LEFT_WRIST_Y])\n",
    "\n",
    "for i in range(len(left_wrist_x)):\n",
    "    if (math.floor(left_wrist_x[i]) != 9999.0 and math.floor(left_wrist_y[i]) != 9999.0):\n",
    "        plt.plot(left_wrist_x[i], left_wrist_y[i], 'o', markersize=5)\n",
    "\n",
    "plt.show()"
   ]
  },
  {
   "cell_type": "code",
   "execution_count": 39,
   "metadata": {},
   "outputs": [
    {
     "data": {
      "image/png": "[encoded data removed]",
      "text/plain": [
       "<Figure size 432x288 with 1 Axes>"
      ]
     },
     "metadata": {
      "needs_background": "light"
     },
     "output_type": "display_data"
    }
   ],
   "source": [
    "# For tree\n",
    "tree_points = group_data[\"tree\"]\n",
    "\n",
    "left_wrist_x = []\n",
    "left_wrist_y = []\n",
    "for row in tree_points:\n",
    "    left_wrist_x.append(row[LEFT_WRIST_X])\n",
    "    left_wrist_y.append(row[LEFT_WRIST_Y])\n",
    "\n",
    "for i in range(len(left_wrist_x)):\n",
    "    if (math.floor(left_wrist_x[i]) != 9999.0 and math.floor(left_wrist_y[i]) != 9999.0):\n",
    "        plt.plot(left_wrist_x[i], left_wrist_y[i], 'o', markersize=5)\n",
    "\n",
    "plt.show()"
   ]
  },
  {
   "cell_type": "code",
   "execution_count": 38,
   "metadata": {},
   "outputs": [
    {
     "data": {
      "image/png": "[encoded data removed]",
      "text/plain": [
       "<Figure size 432x288 with 1 Axes>"
      ]
     },
     "metadata": {
      "needs_background": "light"
     },
     "output_type": "display_data"
    }
   ],
   "source": [
    "# For TrianglePose\n",
    "triangle_points = group_data[\"trianglepose\"]\n",
    "\n",
    "left_wrist_x = []\n",
    "left_wrist_y = []\n",
    "for row in triangle_points:\n",
    "    left_wrist_x.append(row[LEFT_WRIST_X])\n",
    "    left_wrist_y.append(row[LEFT_WRIST_Y])\n",
    "\n",
    "for i in range(len(left_wrist_x)):\n",
    "    if (math.floor(left_wrist_x[i]) != 9999.0 and math.floor(left_wrist_y[i]) != 9999.0):\n",
    "        plt.plot(left_wrist_x[i], left_wrist_y[i], 'o', markersize=5)\n",
    "\n",
    "plt.show()"
   ]
  },
  {
   "cell_type": "code",
   "execution_count": 70,
   "metadata": {},
   "outputs": [],
   "source": [
    "# KDE Implementation for calculating our probabilities\n",
    "#def calculate_KDE_probability(value):\n",
    "    \n",
    "def predict_with_KDE(): \n",
    "    predictions = []\n",
    "    \n",
    "    for instance in test_X:\n",
    "        prob_arr = []\n",
    "        for label in train_dict:\n",
    "            gaussian_KDE_prob = math.log(label_prob_dict[label], 2)\n",
    "            for i in range(len(instance)):\n",
    "                value = instance[i]\n",
    "                if math.floor(value) == 9999.0:\n",
    "                    continue\n",
    "                    \n",
    "                total_prob = 0\n",
    "                count = 0\n",
    "                train_rows = group_data[label]\n",
    "                for train_instance in train_rows:\n",
    "                    if math.floor(train_instance[i]) != 9999.0:\n",
    "                        total_prob += GaussianFunction(value, train_instance[i], std_dev = 10)\n",
    "                        count += 1\n",
    "                        \n",
    "                avg_prob = total_prob / count\n",
    "                if (avg_prob > 0):\n",
    "                    gaussian_KDE_prob += math.log(avg_prob, 2)\n",
    "            \n",
    "            prob_arr.append(gaussian_KDE_prob)\n",
    "            \n",
    "        max_arg = np.argmax(prob_arr)\n",
    "        predicted_label = list(train_dict.keys())[max_arg]\n",
    "        predictions.append(predicted_label)\n",
    "\n",
    "    return predictions\n",
    "                \n",
    "KDE_predictions = predict_with_KDE()           "
   ]
  },
  {
   "cell_type": "code",
   "execution_count": 71,
   "metadata": {},
   "outputs": [
    {
     "data": {
      "text/plain": [
       "0.7758620689655172"
      ]
     },
     "execution_count": 71,
     "metadata": {},
     "output_type": "execute_result"
    }
   ],
   "source": [
    "accuracy_score(test_Y, KDE_predictions)"
   ]
  },
  {
   "cell_type": "markdown",
   "metadata": {},
   "source": [
    "## Questions \n",
    "\n",
    "\n",
    "If you are in a group of 1, you will respond to **two** questions of your choosing.\n",
    "\n",
    "If you are in a group of 2, you will respond to **four** questions of your choosing.\n",
    "\n",
    "A response to a question should take about 100–250 words, and make reference to the data wherever possible.\n",
    "\n",
    "#### NOTE: you may develope codes or functions to help respond to the question here, but your formal answer should be submitted separately as a PDF."
   ]
  },
  {
   "cell_type": "markdown",
   "metadata": {},
   "source": [
    "### Q1\n",
    "Since this is a multiclass classification problem, there are multiple ways to compute precision, recall, and F-score for this classifier. Implement at least two of the methods from the \"Model Evaluation\" lecture and discuss any differences between them. (The implementation should be your own and should not just call a pre-existing function.)"
   ]
  },
  {
   "cell_type": "code",
   "execution_count": null,
   "metadata": {
    "collapsed": true,
    "jupyter": {
     "outputs_hidden": true
    }
   },
   "outputs": [],
   "source": []
  },
  {
   "cell_type": "markdown",
   "metadata": {},
   "source": [
    "### Q2\n",
    "The Gaussian naıve Bayes classifier assumes that numeric attributes come from a Gaussian distribution. Is this assumption always true for the numeric attributes in this dataset? Identify some cases where the Gaussian assumption is violated and describe any evidence (or lack thereof) that this has some effect on the classifier’s predictions."
   ]
  },
  {
   "cell_type": "code",
   "execution_count": null,
   "metadata": {
    "collapsed": true,
    "jupyter": {
     "outputs_hidden": true
    }
   },
   "outputs": [],
   "source": []
  },
  {
   "cell_type": "markdown",
   "metadata": {},
   "source": [
    "### Q3\n",
    "Implement a kernel density estimate (KDE) naive Bayes classifier and compare its performance to the Gaussian naive Bayes classifier. Recall that KDE has kernel bandwidth as a free parameter -- you can choose an arbitrary value for this, but a value in the range 5-25 is recommended. Discuss any differences you observe between the Gaussian and KDE naive Bayes classifiers. (As with the Gaussian naive Bayes, this KDE naive Bayes implementation should be your own and should not just call a pre-existing function.)"
   ]
  },
  {
   "cell_type": "code",
   "execution_count": null,
   "metadata": {
    "collapsed": true,
    "jupyter": {
     "outputs_hidden": true
    }
   },
   "outputs": [],
   "source": []
  },
  {
   "cell_type": "markdown",
   "metadata": {},
   "source": [
    "### Q4\n",
    "Instead of using an arbitrary kernel bandwidth for the KDE naive Bayes classifier, use random hold-out or cross-validation to choose the kernel bandwidth. Discuss how this changes the model performance compared to using an arbitrary kernel bandwidth."
   ]
  },
  {
   "cell_type": "code",
   "execution_count": null,
   "metadata": {
    "collapsed": true,
    "jupyter": {
     "outputs_hidden": true
    }
   },
   "outputs": [],
   "source": []
  },
  {
   "cell_type": "markdown",
   "metadata": {},
   "source": [
    "### Q5\n",
    "Naive Bayes ignores missing values, but in pose recognition tasks the missing values can be informative. Missing values indicate that some part of the body was obscured and sometimes this is relevant to the pose (e.g., holding one hand behind the back). Are missing values useful for this task? Implement a method that incorporates information about missing values and demonstrate whether it changes the classification results."
   ]
  },
  {
   "cell_type": "code",
   "execution_count": null,
   "metadata": {
    "collapsed": true,
    "jupyter": {
     "outputs_hidden": true
    }
   },
   "outputs": [],
   "source": []
  },
  {
   "cell_type": "markdown",
   "metadata": {},
   "source": [
    "### Q6\n",
    "Engineer your own pose features from the provided keypoints. Instead of using the (x,y) positions of keypoints, you might consider the angles of the limbs or body, or the distances between pairs of keypoints. How does a naive Bayes classifier based on your engineered features compare to the classifier using (x,y) values? Please note that we are interested in explainable features for pose recognition, so simply putting the (x,y) values in a neural network or similar to get an arbitrary embedding will not receive full credit for this question. You should be able to explain the rationale behind your proposed features. Also, don't forget the conditional independence assumption of naive Bayes when proposing new features -- a large set of highly-correlated features may not work well."
   ]
  },
  {
   "cell_type": "code",
   "execution_count": null,
   "metadata": {
    "collapsed": true,
    "jupyter": {
     "outputs_hidden": true
    }
   },
   "outputs": [],
   "source": []
  }
 ],
 "metadata": {
  "kernelspec": {
   "display_name": "Python 3",
   "language": "python",
   "name": "python3"
  },
  "language_info": {
   "codemirror_mode": {
    "name": "ipython",
    "version": 3
   },
   "file_extension": ".py",
   "mimetype": "text/x-python",
   "name": "python",
   "nbconvert_exporter": "python",
   "pygments_lexer": "ipython3",
   "version": "3.8.5"
  }
 },
 "nbformat": 4,
 "nbformat_minor": 4
}
