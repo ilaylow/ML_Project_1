{
 "cells": [
  {
   "cell_type": "markdown",
   "metadata": {},
   "source": [
    "###### ### The University of Melbourne, School of Computing and Information Systems\n",
    "# COMP30027 Machine Learning, 2021 Semester 1\n",
    "\n",
    "## Assignment 1: Pose classification with naive Bayes\n"
   ]
  },
  {
   "cell_type": "markdown",
   "metadata": {},
   "source": [
    "**Student ID(s):** \n",
    "Chuen Ley Low: 1078133\n",
    "Hoan Tran: \n"
   ]
  },
  {
   "cell_type": "markdown",
   "metadata": {},
   "source": [
    "This iPython notebook is a template which you will use for your Assignment 1 submission.\n",
    "\n",
    "Marking will be applied on the four functions that are defined in this notebook, and to your responses to the questions at the end of this notebook (Submitted in a separate PDF file).\n",
    "\n",
    "**NOTE: YOU SHOULD ADD YOUR RESULTS, DIAGRAMS AND IMAGES FROM YOUR OBSERVATIONS IN THIS FILE TO YOUR REPORT (the PDF file).**\n",
    "\n",
    "You may change the prototypes of these functions, and you may write other functions, according to your requirements. We would appreciate it if the required functions were prominent/easy to find.\n",
    "\n",
    "**Adding proper comments to your code is MANDATORY. **"
   ]
  },
  {
   "cell_type": "code",
   "execution_count": 39,
   "metadata": {},
   "outputs": [],
   "source": [
    "import pandas as pd\n",
    "import numpy as np\n",
    "import math\n",
    "from sklearn.metrics import accuracy_score"
   ]
  },
  {
   "cell_type": "code",
   "execution_count": 19,
   "metadata": {},
   "outputs": [],
   "source": [
    "# This function should prepare the data by reading it from a file and converting it into a useful format for training and testing\n",
    "\n",
    "def preprocess():\n",
    "    train_X = []\n",
    "    train_Y = []\n",
    "    train_file_path = \"data/train.csv\"\n",
    "    test_file_path = \"data/test.csv\"\n",
    "    \n",
    "    train_df = pd.read_csv(train_file_path)\n",
    "    test_df = pd.read_csv(test_file_path)\n",
    "    \n",
    "    train_X.append([float(x) for x in list(train_df.columns[1:])])\n",
    "    train_Y.append(train_df.columns[0])\n",
    "    \n",
    "    for row in train_df.iterrows():\n",
    "        temp = []\n",
    "        for e in row[1][1:]:\n",
    "            temp.append(e)\n",
    "            \n",
    "            \n",
    "        train_X.append(temp)\n",
    "        train_Y.append(row[1][0])\n",
    "    \n",
    "    test_X = []\n",
    "    test_Y = []\n",
    "    \n",
    "    test_X.append([float(x) for x in list(test_df.columns[1:])])\n",
    "    test_Y.append(test_df.columns[0])\n",
    "    \n",
    "    for row in test_df.iterrows():\n",
    "        temp = []\n",
    "        for e in row[1][1:]:\n",
    "            temp.append(e)\n",
    "            \n",
    "            \n",
    "        test_X.append(temp)\n",
    "        test_Y.append(row[1][0])\n",
    "    \n",
    "    return train_X, train_Y, test_X, test_Y\n",
    "\n",
    "train_X, train_Y, test_X, test_Y = preprocess()"
   ]
  },
  {
   "cell_type": "code",
   "execution_count": 24,
   "metadata": {},
   "outputs": [
    {
     "data": {
      "text/plain": [
       "{'bridge': 0.10843373493975904,\n",
       " 'childs': 0.09236947791164658,\n",
       " 'downwarddog': 0.13788487282463185,\n",
       " 'mountain': 0.214190093708166,\n",
       " 'plank': 0.07630522088353414,\n",
       " 'seatedforwardbend': 0.05756358768406961,\n",
       " 'tree': 0.08969210174029452,\n",
       " 'trianglepose': 0.07898259705488621,\n",
       " 'warrior1': 0.07228915662650602,\n",
       " 'warrior2': 0.07228915662650602}"
      ]
     },
     "execution_count": 24,
     "metadata": {},
     "output_type": "execute_result"
    }
   ],
   "source": [
    "# This function should calculat prior probabilities and likelihoods from the training data and using\n",
    "# them to build a naive Bayes model\n",
    "\n",
    "def train():\n",
    "    label_prob_dict = {}\n",
    "    groups = {}\n",
    "    for data, label in zip(train_X, train_Y):\n",
    "        if label in groups:\n",
    "            groups[label].append(data)\n",
    "        else:\n",
    "            groups[label] = [data]\n",
    "\n",
    "    train_dict = {}\n",
    "    \n",
    "    for key in groups.keys():\n",
    "        train_dict[key] = []\n",
    "    \n",
    "    for key in groups.keys():\n",
    "        data = groups[key]\n",
    "        num_attributes = len(data[0])\n",
    "        num_instance = len(data)\n",
    "        \n",
    "        label_prob_dict[key] = num_instance / len(train_X)\n",
    "        \n",
    "        for i in range(num_attributes):\n",
    "            total_sum = 0 \n",
    "            for j in range(num_instance):\n",
    "                if math.floor(data[j][i]) != 9999.0:\n",
    "                    total_sum += float(data[j][i]) \n",
    "            \n",
    "            mean = total_sum / num_instance\n",
    "            \n",
    "            diff_sum = 0\n",
    "            \n",
    "            for j in range(num_instance):\n",
    "                if math.floor(data[j][i]) != 9999.0:\n",
    "                    diff_sum += ((float(data[j][i]) - mean) ** 2)\n",
    "                \n",
    "            std_dev = math.sqrt(diff_sum / num_instance)\n",
    "            \n",
    "            train_dict[key].append((mean, std_dev))\n",
    "            \n",
    "    \n",
    "    return train_dict, label_prob_dict\n",
    "\n",
    "train_dict, label_prob_dict = train()        "
   ]
  },
  {
   "cell_type": "code",
   "execution_count": 23,
   "metadata": {},
   "outputs": [
    {
     "data": {
      "text/plain": [
       "0.24197072451914337"
      ]
     },
     "execution_count": 23,
     "metadata": {},
     "output_type": "execute_result"
    }
   ],
   "source": [
    "def GaussianFunction(x, mean, std_dev):\n",
    "    x = float(x)\n",
    "    base = 1 / (std_dev * math.sqrt(2 * math.pi))\n",
    "    exponent = math.exp(-0.5 * ((x - mean)/std_dev) ** 2)\n",
    "    return base * exponent\n",
    "\n",
    "GaussianFunction(2.0, 1.0, 1.0)"
   ]
  },
  {
   "cell_type": "code",
   "execution_count": 43,
   "metadata": {
    "tags": []
   },
   "outputs": [
    {
     "name": "stdout",
     "output_type": "stream",
     "text": [
      "['bridge', 'childs', 'bridge', 'plank', 'downwarddog', 'bridge', 'bridge', 'bridge', 'childs', 'bridge', 'downwarddog', 'bridge', 'downwarddog', 'bridge', 'seatedforwardbend', 'childs', 'childs', 'mountain', 'childs', 'childs', 'seatedforwardbend', 'childs', 'childs', 'childs', 'childs', 'childs', 'childs', 'downwarddog', 'bridge', 'mountain', 'downwarddog', 'downwarddog', 'downwarddog', 'downwarddog', 'bridge', 'downwarddog', 'downwarddog', 'mountain', 'downwarddog', 'downwarddog', 'mountain', 'downwarddog', 'downwarddog', 'downwarddog', 'downwarddog', 'mountain', 'mountain', 'mountain', 'mountain', 'mountain', 'mountain', 'mountain', 'tree', 'tree', 'mountain', 'mountain', 'mountain', 'mountain', 'mountain', 'mountain', 'mountain', 'mountain', 'mountain', 'mountain', 'mountain', 'mountain', 'mountain', 'tree', 'tree', 'mountain', 'mountain', 'mountain', 'mountain', 'mountain', 'mountain', 'bridge', 'plank', 'plank', 'trianglepose', 'plank', 'plank', 'trianglepose', 'bridge', 'plank', 'seatedforwardbend', 'bridge', 'childs', 'trianglepose', 'seatedforwardbend', 'seatedforwardbend', 'seatedforwardbend', 'childs', 'seatedforwardbend', 'tree', 'tree', 'warrior1', 'tree', 'bridge', 'warrior1', 'trianglepose', 'trianglepose', 'trianglepose', 'trianglepose', 'warrior1', 'warrior1', 'warrior1', 'warrior1', 'warrior1', 'warrior2', 'warrior2', 'warrior2', 'warrior2', 'warrior1', 'warrior2', 'warrior2', 'warrior2']\n"
     ]
    }
   ],
   "source": [
    "# This function should predict classes for new items in a test dataset (for the purposes of this assignment, you\n",
    "# can re-use the training data as a test set)\n",
    "\n",
    "def predict():\n",
    "    predictions = []\n",
    "    for i in range(len(test_X)):\n",
    "        instance = test_X[i]\n",
    "        prob_arr = []\n",
    "        # Calculate the Gaussian Probability for each label\n",
    "        for label in train_dict.keys():        \n",
    "            prob = math.log(label_prob_dict[label], 2)\n",
    "            for j in range(len(instance)):\n",
    "                if math.floor(instance[j]) != 9999.0:\n",
    "                    mean, std_dev = train_dict[label][j]\n",
    "                    gaussian_prob = GaussianFunction(instance[j], mean, std_dev)\n",
    "                    \n",
    "                    if gaussian_prob != 0.0:\n",
    "                        prob += math.log(GaussianFunction(instance[j], mean, std_dev), 2)\n",
    "            prob_arr.append(prob)\n",
    "        \n",
    "        max_arg = np.argmax(prob_arr)\n",
    "        predicted_label = list(train_dict.keys())[max_arg]\n",
    "        predictions.append(predicted_label)\n",
    "    \n",
    "    print(predictions)\n",
    "    return predictions\n",
    "\n",
    "predictions = predict()"
   ]
  },
  {
   "cell_type": "code",
   "execution_count": 42,
   "metadata": {},
   "outputs": [
    {
     "name": "stdout",
     "output_type": "stream",
     "text": [
      "0.7413793103448276\n"
     ]
    }
   ],
   "source": [
    "# This function should evaliate the prediction performance by comparing your model’s class outputs to ground\n",
    "# truth labels\n",
    "\n",
    "def evaluate():\n",
    "    acc_score = accuracy_score(test_Y, predictions)\n",
    "    print(acc_score)\n",
    "\n",
    "evaluate()"
   ]
  },
  {
   "cell_type": "code",
   "execution_count": null,
   "metadata": {},
   "outputs": [],
   "source": []
  },
  {
   "cell_type": "markdown",
   "metadata": {},
   "source": [
    "## Questions \n",
    "\n",
    "\n",
    "If you are in a group of 1, you will respond to **two** questions of your choosing.\n",
    "\n",
    "If you are in a group of 2, you will respond to **four** questions of your choosing.\n",
    "\n",
    "A response to a question should take about 100–250 words, and make reference to the data wherever possible.\n",
    "\n",
    "#### NOTE: you may develope codes or functions to help respond to the question here, but your formal answer should be submitted separately as a PDF."
   ]
  },
  {
   "cell_type": "markdown",
   "metadata": {},
   "source": [
    "### Q1\n",
    "Since this is a multiclass classification problem, there are multiple ways to compute precision, recall, and F-score for this classifier. Implement at least two of the methods from the \"Model Evaluation\" lecture and discuss any differences between them. (The implementation should be your own and should not just call a pre-existing function.)"
   ]
  },
  {
   "cell_type": "code",
   "execution_count": null,
   "metadata": {
    "collapsed": true,
    "jupyter": {
     "outputs_hidden": true
    }
   },
   "outputs": [],
   "source": []
  },
  {
   "cell_type": "markdown",
   "metadata": {},
   "source": [
    "### Q2\n",
    "The Gaussian naıve Bayes classifier assumes that numeric attributes come from a Gaussian distribution. Is this assumption always true for the numeric attributes in this dataset? Identify some cases where the Gaussian assumption is violated and describe any evidence (or lack thereof) that this has some effect on the classifier’s predictions."
   ]
  },
  {
   "cell_type": "code",
   "execution_count": null,
   "metadata": {
    "collapsed": true,
    "jupyter": {
     "outputs_hidden": true
    }
   },
   "outputs": [],
   "source": []
  },
  {
   "cell_type": "markdown",
   "metadata": {},
   "source": [
    "### Q3\n",
    "Implement a kernel density estimate (KDE) naive Bayes classifier and compare its performance to the Gaussian naive Bayes classifier. Recall that KDE has kernel bandwidth as a free parameter -- you can choose an arbitrary value for this, but a value in the range 5-25 is recommended. Discuss any differences you observe between the Gaussian and KDE naive Bayes classifiers. (As with the Gaussian naive Bayes, this KDE naive Bayes implementation should be your own and should not just call a pre-existing function.)"
   ]
  },
  {
   "cell_type": "code",
   "execution_count": null,
   "metadata": {
    "collapsed": true,
    "jupyter": {
     "outputs_hidden": true
    }
   },
   "outputs": [],
   "source": []
  },
  {
   "cell_type": "markdown",
   "metadata": {},
   "source": [
    "### Q4\n",
    "Instead of using an arbitrary kernel bandwidth for the KDE naive Bayes classifier, use random hold-out or cross-validation to choose the kernel bandwidth. Discuss how this changes the model performance compared to using an arbitrary kernel bandwidth."
   ]
  },
  {
   "cell_type": "code",
   "execution_count": null,
   "metadata": {
    "collapsed": true,
    "jupyter": {
     "outputs_hidden": true
    }
   },
   "outputs": [],
   "source": []
  },
  {
   "cell_type": "markdown",
   "metadata": {},
   "source": [
    "### Q5\n",
    "Naive Bayes ignores missing values, but in pose recognition tasks the missing values can be informative. Missing values indicate that some part of the body was obscured and sometimes this is relevant to the pose (e.g., holding one hand behind the back). Are missing values useful for this task? Implement a method that incorporates information about missing values and demonstrate whether it changes the classification results."
   ]
  },
  {
   "cell_type": "code",
   "execution_count": null,
   "metadata": {
    "collapsed": true,
    "jupyter": {
     "outputs_hidden": true
    }
   },
   "outputs": [],
   "source": []
  },
  {
   "cell_type": "markdown",
   "metadata": {},
   "source": [
    "### Q6\n",
    "Engineer your own pose features from the provided keypoints. Instead of using the (x,y) positions of keypoints, you might consider the angles of the limbs or body, or the distances between pairs of keypoints. How does a naive Bayes classifier based on your engineered features compare to the classifier using (x,y) values? Please note that we are interested in explainable features for pose recognition, so simply putting the (x,y) values in a neural network or similar to get an arbitrary embedding will not receive full credit for this question. You should be able to explain the rationale behind your proposed features. Also, don't forget the conditional independence assumption of naive Bayes when proposing new features -- a large set of highly-correlated features may not work well."
   ]
  },
  {
   "cell_type": "code",
   "execution_count": null,
   "metadata": {
    "collapsed": true,
    "jupyter": {
     "outputs_hidden": true
    }
   },
   "outputs": [],
   "source": []
  }
 ],
 "metadata": {
  "kernelspec": {
   "display_name": "Python 3",
   "language": "python",
   "name": "python3"
  },
  "language_info": {
   "codemirror_mode": {
    "name": "ipython",
    "version": 3
   },
   "file_extension": ".py",
   "mimetype": "text/x-python",
   "name": "python",
   "nbconvert_exporter": "python",
   "pygments_lexer": "ipython3",
   "version": "3.8.5"
  }
 },
 "nbformat": 4,
 "nbformat_minor": 4
}
