{
 "cells": [
  {
   "cell_type": "markdown",
   "metadata": {},
   "source": [
    "###### ### The University of Melbourne, School of Computing and Information Systems\n",
    "# COMP30027 Machine Learning, 2021 Semester 1\n",
    "\n",
    "## Assignment 1: Pose classification with naive Bayes\n"
   ]
  },
  {
   "cell_type": "markdown",
   "metadata": {},
   "source": [
    "**Student ID(s):** \n",
    "Chuen Ley Low: 1078133\n",
    "Hoan Tran: \n"
   ]
  },
  {
   "cell_type": "markdown",
   "metadata": {},
   "source": [
    "This iPython notebook is a template which you will use for your Assignment 1 submission.\n",
    "\n",
    "Marking will be applied on the four functions that are defined in this notebook, and to your responses to the questions at the end of this notebook (Submitted in a separate PDF file).\n",
    "\n",
    "**NOTE: YOU SHOULD ADD YOUR RESULTS, DIAGRAMS AND IMAGES FROM YOUR OBSERVATIONS IN THIS FILE TO YOUR REPORT (the PDF file).**\n",
    "\n",
    "You may change the prototypes of these functions, and you may write other functions, according to your requirements. We would appreciate it if the required functions were prominent/easy to find.\n",
    "\n",
    "**Adding proper comments to your code is MANDATORY. **"
   ]
  },
  {
   "cell_type": "code",
   "execution_count": 2,
   "metadata": {},
   "outputs": [],
   "source": [
    "import pandas as pd\n",
    "import numpy as np\n",
    "import math"
   ]
  },
  {
   "cell_type": "code",
   "execution_count": 4,
   "metadata": {},
   "outputs": [
    {
     "name": "stdout",
     "output_type": "stream",
     "text": [
      "       bridge    54.8598      33.0166       9999     9999.1     8.9676  \\\n",
      "0      bridge  9999.0000  9999.000000  9999.0000  9999.0000  9999.0000   \n",
      "1      bridge   -87.4883   -38.946700    32.8427    93.5923  9999.0000   \n",
      "2      bridge  -140.2714  -107.904500  9999.0000  9999.0000  9999.0000   \n",
      "3      bridge   171.6807    72.984300  9999.0000  9999.0000   -56.6202   \n",
      "4      bridge  9999.0000  9999.000000  9999.0000  9999.0000  9999.0000   \n",
      "..        ...        ...          ...        ...        ...        ...   \n",
      "741  warrior2    19.1065     3.553000   -79.5098  -131.4038    85.5393   \n",
      "742  warrior2   -14.9694     0.692970   -93.5317  -147.7031    96.1209   \n",
      "743  warrior2   -25.3208    -9.957200  -105.8103  -156.4708    82.5501   \n",
      "744  warrior2    -1.3885   -10.619800   -86.4193  -122.7725    69.0921   \n",
      "745  warrior2   -21.7485     0.014172   -94.5443  -148.1138    93.9008   \n",
      "\n",
      "      -33.5934   -63.2506     9999.2     9999.3  ...    14.5333       9999.6  \\\n",
      "0    9999.0000  9999.0000  9999.0000  9999.0000  ...  9999.0000  9999.000000   \n",
      "1    9999.0000  9999.0000  9999.0000  9999.0000  ...    -5.4110     0.091912   \n",
      "2    9999.0000   -23.9042    65.4627    76.3410  ...   -25.8142  9999.000000   \n",
      "3    -167.9182   -20.1266  9999.0000  9999.0000  ...     2.1167  9999.000000   \n",
      "4    9999.0000     3.6361    32.0321     9.9475  ...  9999.0000  9999.000000   \n",
      "..         ...        ...        ...        ...  ...        ...          ...   \n",
      "741   136.3820     2.8382   -82.6325  -172.6672  ...    62.4044    67.916200   \n",
      "742   153.9108    -2.6247  -107.9651  -130.3302  ...    72.5689    77.386400   \n",
      "743   137.2836     4.5419   -92.6621  -116.9862  ...    64.9132    69.948300   \n",
      "744   118.1787    -2.7442   -57.3115  -102.3196  ...    66.0730    73.048100   \n",
      "745   150.6695     3.2385   -95.6088  -104.1969  ...    69.5507    77.007500   \n",
      "\n",
      "        9999.7   -30.5872   -57.6515    41.6003     9999.8     9999.9  \\\n",
      "0    9999.0000  9999.0000  9999.0000  9999.0000  9999.0000  9999.0000   \n",
      "1      -3.8473  9999.0000  9999.0000  9999.0000  9999.0000  9999.0000   \n",
      "2    9999.0000  9999.0000  9999.0000    28.4441    49.1976   -44.1205   \n",
      "3    9999.0000   -38.3855   -28.2247    38.5907  9999.0000  9999.0000   \n",
      "4    9999.0000  9999.0000  9999.0000   145.7761    62.9591   -88.3465   \n",
      "..         ...        ...        ...        ...        ...        ...   \n",
      "741    77.3104    68.9512    76.2090   -37.5930   -89.8188  -137.5640   \n",
      "742    76.4774    65.6195    67.4624   -27.3761   -57.1713  -149.0554   \n",
      "743    73.0468    64.9163    70.9923   -34.0301   -46.5170  -139.9371   \n",
      "744    80.2707    79.4188    81.1999   -33.6164   -83.3311  -125.3900   \n",
      "745    83.4404    71.6436    72.7115   -30.3973   -64.2691  -154.7582   \n",
      "\n",
      "       9999.10    9999.11  \n",
      "0    9999.0000  9999.0000  \n",
      "1    9999.0000  9999.0000  \n",
      "2      38.9266   -37.7665  \n",
      "3    9999.0000  9999.0000  \n",
      "4      39.9841  -160.3728  \n",
      "..         ...        ...  \n",
      "741   -52.4577  -138.6002  \n",
      "742   -89.6673  -154.4773  \n",
      "743   -92.0674  -139.6989  \n",
      "744   -78.7584  -164.6995  \n",
      "745   -82.5485  -157.1568  \n",
      "\n",
      "[746 rows x 23 columns]\n"
     ]
    }
   ],
   "source": [
    "# This function should prepare the data by reading it from a file and converting it into a useful format for training and testing\n",
    "\n",
    "def preprocess():\n",
    "    train_file_path = \"data/train.csv\"\n",
    "    test_file_path = \"data/test.csv\"\n",
    "    \n",
    "    train_df = pd.read_csv(train_file_path)\n",
    "    print(train_df)\n",
    "    return\n",
    "\n",
    "preprocess()"
   ]
  },
  {
   "cell_type": "code",
   "execution_count": null,
   "metadata": {
    "collapsed": true,
    "jupyter": {
     "outputs_hidden": true
    }
   },
   "outputs": [],
   "source": [
    "# This function should calculat prior probabilities and likelihoods from the training data and using\n",
    "# them to build a naive Bayes model\n",
    "\n",
    "def train():\n",
    "    return"
   ]
  },
  {
   "cell_type": "code",
   "execution_count": null,
   "metadata": {
    "collapsed": true,
    "jupyter": {
     "outputs_hidden": true
    }
   },
   "outputs": [],
   "source": [
    "# This function should predict classes for new items in a test dataset (for the purposes of this assignment, you\n",
    "# can re-use the training data as a test set)\n",
    "\n",
    "def predict():\n",
    "    return"
   ]
  },
  {
   "cell_type": "code",
   "execution_count": null,
   "metadata": {
    "collapsed": true,
    "jupyter": {
     "outputs_hidden": true
    }
   },
   "outputs": [],
   "source": [
    "# This function should evaliate the prediction performance by comparing your model’s class outputs to ground\n",
    "# truth labels\n",
    "\n",
    "def evaluate():\n",
    "    return"
   ]
  },
  {
   "cell_type": "markdown",
   "metadata": {},
   "source": [
    "## Questions \n",
    "\n",
    "\n",
    "If you are in a group of 1, you will respond to **two** questions of your choosing.\n",
    "\n",
    "If you are in a group of 2, you will respond to **four** questions of your choosing.\n",
    "\n",
    "A response to a question should take about 100–250 words, and make reference to the data wherever possible.\n",
    "\n",
    "#### NOTE: you may develope codes or functions to help respond to the question here, but your formal answer should be submitted separately as a PDF."
   ]
  },
  {
   "cell_type": "markdown",
   "metadata": {},
   "source": [
    "### Q1\n",
    "Since this is a multiclass classification problem, there are multiple ways to compute precision, recall, and F-score for this classifier. Implement at least two of the methods from the \"Model Evaluation\" lecture and discuss any differences between them. (The implementation should be your own and should not just call a pre-existing function.)"
   ]
  },
  {
   "cell_type": "code",
   "execution_count": null,
   "metadata": {
    "collapsed": true,
    "jupyter": {
     "outputs_hidden": true
    }
   },
   "outputs": [],
   "source": []
  },
  {
   "cell_type": "markdown",
   "metadata": {},
   "source": [
    "### Q2\n",
    "The Gaussian naıve Bayes classifier assumes that numeric attributes come from a Gaussian distribution. Is this assumption always true for the numeric attributes in this dataset? Identify some cases where the Gaussian assumption is violated and describe any evidence (or lack thereof) that this has some effect on the classifier’s predictions."
   ]
  },
  {
   "cell_type": "code",
   "execution_count": null,
   "metadata": {
    "collapsed": true,
    "jupyter": {
     "outputs_hidden": true
    }
   },
   "outputs": [],
   "source": []
  },
  {
   "cell_type": "markdown",
   "metadata": {},
   "source": [
    "### Q3\n",
    "Implement a kernel density estimate (KDE) naive Bayes classifier and compare its performance to the Gaussian naive Bayes classifier. Recall that KDE has kernel bandwidth as a free parameter -- you can choose an arbitrary value for this, but a value in the range 5-25 is recommended. Discuss any differences you observe between the Gaussian and KDE naive Bayes classifiers. (As with the Gaussian naive Bayes, this KDE naive Bayes implementation should be your own and should not just call a pre-existing function.)"
   ]
  },
  {
   "cell_type": "code",
   "execution_count": null,
   "metadata": {
    "collapsed": true,
    "jupyter": {
     "outputs_hidden": true
    }
   },
   "outputs": [],
   "source": []
  },
  {
   "cell_type": "markdown",
   "metadata": {},
   "source": [
    "### Q4\n",
    "Instead of using an arbitrary kernel bandwidth for the KDE naive Bayes classifier, use random hold-out or cross-validation to choose the kernel bandwidth. Discuss how this changes the model performance compared to using an arbitrary kernel bandwidth."
   ]
  },
  {
   "cell_type": "code",
   "execution_count": null,
   "metadata": {
    "collapsed": true,
    "jupyter": {
     "outputs_hidden": true
    }
   },
   "outputs": [],
   "source": []
  },
  {
   "cell_type": "markdown",
   "metadata": {},
   "source": [
    "### Q5\n",
    "Naive Bayes ignores missing values, but in pose recognition tasks the missing values can be informative. Missing values indicate that some part of the body was obscured and sometimes this is relevant to the pose (e.g., holding one hand behind the back). Are missing values useful for this task? Implement a method that incorporates information about missing values and demonstrate whether it changes the classification results."
   ]
  },
  {
   "cell_type": "code",
   "execution_count": null,
   "metadata": {
    "collapsed": true,
    "jupyter": {
     "outputs_hidden": true
    }
   },
   "outputs": [],
   "source": []
  },
  {
   "cell_type": "markdown",
   "metadata": {},
   "source": [
    "### Q6\n",
    "Engineer your own pose features from the provided keypoints. Instead of using the (x,y) positions of keypoints, you might consider the angles of the limbs or body, or the distances between pairs of keypoints. How does a naive Bayes classifier based on your engineered features compare to the classifier using (x,y) values? Please note that we are interested in explainable features for pose recognition, so simply putting the (x,y) values in a neural network or similar to get an arbitrary embedding will not receive full credit for this question. You should be able to explain the rationale behind your proposed features. Also, don't forget the conditional independence assumption of naive Bayes when proposing new features -- a large set of highly-correlated features may not work well."
   ]
  },
  {
   "cell_type": "code",
   "execution_count": null,
   "metadata": {
    "collapsed": true,
    "jupyter": {
     "outputs_hidden": true
    }
   },
   "outputs": [],
   "source": []
  }
 ],
 "metadata": {
  "kernelspec": {
   "display_name": "Python 3",
   "language": "python",
   "name": "python3"
  },
  "language_info": {
   "codemirror_mode": {
    "name": "ipython",
    "version": 3
   },
   "file_extension": ".py",
   "mimetype": "text/x-python",
   "name": "python",
   "nbconvert_exporter": "python",
   "pygments_lexer": "ipython3",
   "version": "3.7.6"
  }
 },
 "nbformat": 4,
 "nbformat_minor": 4
}
